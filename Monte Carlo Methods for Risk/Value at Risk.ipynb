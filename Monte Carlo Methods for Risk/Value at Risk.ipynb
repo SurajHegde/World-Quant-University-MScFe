{
 "cells": [
  {
   "cell_type": "raw",
   "metadata": {},
   "source": [
    "Monte Carlo VaR model\n",
    "Project asset values to predict portfolio in the future. Build distribution of portfolio\n",
    "Steps involved : \n",
    "1) Determine Dynamics for the assets in the portfolio\n",
    "2) Use Monte Carlo simulation to simulate the value of these assets n-days into the future\n",
    "3) Determine value of your portfolio in each of these scenarios\n",
    "4) Determine the quantile of these projected values"
   ]
  },
  {
   "cell_type": "code",
   "execution_count": 1,
   "metadata": {},
   "outputs": [],
   "source": [
    "import numpy as np\n",
    "import numpy.matlib\n",
    "import math\n",
    "import random\n",
    "from scipy.stats import norm\n",
    "from scipy.stats import uniform\n"
   ]
  },
  {
   "cell_type": "code",
   "execution_count": 2,
   "metadata": {},
   "outputs": [],
   "source": [
    "#Create column vectors for initial share values \n",
    "S0 = np.array([[100],[95],[50]])\n",
    "#Volatilities for each of the shares\n",
    "sigma = np.array([[0.15],[0.2],[0.3]])\n",
    "#Correlation\n",
    "cor_matrix = np.array([[1,0.2,0.4],[0.2,1,0.8],[0.4,0.8,1]])\n",
    "L = np.linalg.cholesky(cor_matrix)\n",
    "#risk free rate\n",
    "r = 0.1\n",
    "#Time period \n",
    "T = 1"
   ]
  },
  {
   "cell_type": "code",
   "execution_count": 3,
   "metadata": {},
   "outputs": [],
   "source": [
    "np.random.seed(0)\n",
    "t_simulations = 10000\n",
    "#Confidence interval\n",
    "alpha = 0.05\n",
    "#Current portfolio value \n",
    "portfolio_cur = np.sum(S0)"
   ]
  },
  {
   "cell_type": "code",
   "execution_count": 4,
   "metadata": {},
   "outputs": [],
   "source": [
    "def find_terminal_price(S0,r,sigma,T,Z):\n",
    "    return S0 * np.exp((r - sigma**2/2) * T + sigma * np.sqrt(T) * Z)"
   ]
  },
  {
   "cell_type": "code",
   "execution_count": 5,
   "metadata": {},
   "outputs": [],
   "source": [
    "#Assuming holdings is constant simulate future portfolio values\n",
    "Z = np.matmul(L,norm.rvs(size = [3,t_simulations]))\n",
    "portfolio_fut = np.sum(find_terminal_price(S0,r,sigma,T,Z),axis = 0)\n"
   ]
  },
  {
   "cell_type": "code",
   "execution_count": 6,
   "metadata": {},
   "outputs": [
    {
     "name": "stdout",
     "output_type": "stream",
     "text": [
      "VaR estimate with Monte Carlo : 15.694930298355253 %\n"
     ]
    }
   ],
   "source": [
    "#Calculating portfolio returns \n",
    "portfolio_returns = (portfolio_fut - portfolio_cur) / portfolio_cur\n",
    "#Sorting\n",
    "portfolio_returns = np.sort(portfolio_returns)\n",
    "#Calculating VaR for portfolio\n",
    "#VaR is the negative of the alpha quantile , alpha = 5%\n",
    "var_estimate = -portfolio_returns[int(np.floor(alpha * t_simulations)) - 1]\n",
    "print(\"VaR estimate with Monte Carlo : {} %\".format(var_estimate * 100))"
   ]
  },
  {
   "cell_type": "raw",
   "metadata": {},
   "source": [
    "Historical simulation for VaR\n",
    "1) Source price data for asset values\n",
    "2) Calculate daily returns for all assets\n",
    "3) Randomly sample n many log returns and use these to grow the respective asset values in the portfolio n days into the future\n",
    "4) Determine your portfolio value in each scenario\n",
    "5) Dtermine the alpha quantile of these projected values \n"
   ]
  },
  {
   "cell_type": "code",
   "execution_count": 7,
   "metadata": {},
   "outputs": [],
   "source": [
    "#Historical data simulation\n",
    "random.seed(0)\n",
    "t_simulations = 10000\n",
    "alpha = 0.05"
   ]
  },
  {
   "cell_type": "code",
   "execution_count": 8,
   "metadata": {},
   "outputs": [],
   "source": [
    "#Instead of using historical data, lets generate our own\n",
    "#Function would be the same as the previous terminal price function but use cumulative sum to keep tally of daily returns\n",
    "def gen_share_path(S0,r,sigma,T,Z):\n",
    "    return S0 * np.exp(np.cumsum((r - sigma**2/2) * T + sigma * np.sqrt(T) * Z,1))\n"
   ]
  },
  {
   "cell_type": "code",
   "execution_count": 9,
   "metadata": {},
   "outputs": [],
   "source": [
    "# 3 Random Variables for 3 different assets in the portfolio for 5 years\n",
    "Z = norm.rvs(size = [3,5*365])\n",
    "corr_Z = (np.matmul(L,Z))\n"
   ]
  },
  {
   "cell_type": "code",
   "execution_count": 10,
   "metadata": {},
   "outputs": [],
   "source": [
    "price_path = gen_share_path(S0,r,sigma,T,corr_Z)"
   ]
  },
  {
   "cell_type": "code",
   "execution_count": 12,
   "metadata": {},
   "outputs": [],
   "source": [
    "hist_S0 = price_path[-1]\n",
    "portfolio_history = np.sum(hist_S0)\n",
    "portfolio_returns = [None] * t_simulations\n",
    "#Historical log returns\n",
    "portfolio_log_returns = np.log(price_path[1:]) - np.log(price_path[0:-1])"
   ]
  },
  {
   "cell_type": "code",
   "execution_count": 15,
   "metadata": {},
   "outputs": [],
   "source": [
    "for i in range(t_simulations):\n",
    "    random_sample = uniform.rvs(size = 365) * (len(price_path) - 1)\n",
    "    random_sample = [int(x) for x in random_sample]\n",
    "    share_returns = portfolio_log_returns[random_sample]\n",
    "    s_term = hist_S0 * np.exp(np.sum(share_returns,axis = 0))\n",
    "    portfolio_returns[i] = (np.sum(s_term) - portfolio_history) / portfolio_history"
   ]
  },
  {
   "cell_type": "code",
   "execution_count": 22,
   "metadata": {},
   "outputs": [
    {
     "name": "stdout",
     "output_type": "stream",
     "text": [
      "Historical data VaR estimate : -1.2273746945959654e+98\n"
     ]
    }
   ],
   "source": [
    "#Sort\n",
    "portfolio_returns = np.sort(portfolio_returns)\n",
    "\n",
    "#VaR estimate\n",
    "hVar_estimate = -portfolio_returns[int(np.floor(alpha*t_simulations)) - 1]\n",
    "print(\"Historical data VaR estimate : {}\".format(hVar_estimate))"
   ]
  },
  {
   "cell_type": "code",
   "execution_count": null,
   "metadata": {},
   "outputs": [],
   "source": []
  }
 ],
 "metadata": {
  "kernelspec": {
   "display_name": "Python 3",
   "language": "python",
   "name": "python3"
  },
  "language_info": {
   "codemirror_mode": {
    "name": "ipython",
    "version": 3
   },
   "file_extension": ".py",
   "mimetype": "text/x-python",
   "name": "python",
   "nbconvert_exporter": "python",
   "pygments_lexer": "ipython3",
   "version": "3.6.5"
  }
 },
 "nbformat": 4,
 "nbformat_minor": 2
}

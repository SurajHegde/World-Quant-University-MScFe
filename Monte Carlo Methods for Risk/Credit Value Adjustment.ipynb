{
 "cells": [
  {
   "cell_type": "raw",
   "metadata": {},
   "source": [
    "Credit Value Adjustment ~ Market Value of Counterparty credit risk\n"
   ]
  },
  {
   "cell_type": "code",
   "execution_count": 137,
   "metadata": {},
   "outputs": [],
   "source": [
    "#Black Scholes Merton model\n",
    "import numpy as np\n",
    "from scipy.stats import norm\n",
    "import matplotlib.pyplot as plt\n",
    "import random"
   ]
  },
  {
   "cell_type": "code",
   "execution_count": 138,
   "metadata": {},
   "outputs": [],
   "source": [
    "# Risk free interest rate \n",
    "r = 0.1\n",
    "\n",
    "#Share Price at t = 0 and volatility\n",
    "S0 = 100\n",
    "sigma = 0.3\n",
    "\n",
    "#Call Option info, Strike price and time period\n",
    "K = 110\n",
    "T = 1\n",
    "\n",
    "#Firm specific information\n",
    "V0 = 200\n",
    "sigma_firm = 0.25\n",
    "debt = 180\n",
    "#Recovery Rate - Amount of money you would receive if the company were to default\n",
    "recovery_rate = 0.2"
   ]
  },
  {
   "cell_type": "code",
   "execution_count": 139,
   "metadata": {},
   "outputs": [],
   "source": [
    "#Function to find terminal value\n",
    "def terminal_value(S0,r,sigma,T,Z):\n",
    "    return S0 * np.exp((r - sigma ** 2/2) * T + sigma * np.sqrt(T) * Z)\n"
   ]
  },
  {
   "cell_type": "code",
   "execution_count": 140,
   "metadata": {},
   "outputs": [],
   "source": [
    "#Function to calculate call option payoff\n",
    "def call_option_payoff(S,K):\n",
    "    return np.maximum(S - K,0)\n"
   ]
  },
  {
   "cell_type": "code",
   "execution_count": 141,
   "metadata": {},
   "outputs": [],
   "source": [
    "np.random.seed(0)\n",
    "\n",
    "corr_tested = np.linspace(-1,1,21)\n",
    "cva_estimates = [None] * len(corr_tested)\n",
    "cva_std = [None] * len(corr_tested)"
   ]
  },
  {
   "cell_type": "code",
   "execution_count": 142,
   "metadata": {},
   "outputs": [],
   "source": [
    "for i in range(len(corr_tested)):\n",
    "    correlation = corr_tested[i]\n",
    "    if(correlation == 1 or correlation == -1):\n",
    "        norm_vec0 = norm.rvs(size = 50000)\n",
    "        norm_vec1 = correlation * norm_vec0\n",
    "        corr_normal_matrix = np.array([norm_vec0,norm_vec1])\n",
    "    else :\n",
    "        corr_matrix = np.array([[1,correlation],[correlation,1]])\n",
    "        norm_matrix = norm.rvs(size = np.array([2,50000]))\n",
    "        corr_normal_matrix = np.matmul(np.linalg.cholesky(corr_matrix),norm_matrix)\n",
    "    \n",
    "    term_stock_val = terminal_value(S0,r,sigma,T,corr_normal_matrix[0,])\n",
    "    call_val = call_option_payoff(term_stock_val,K)\n",
    "    term_firm_val = terminal_value(V0,r,sigma_firm,T,corr_normal_matrix[1,])\n",
    "    amount_lost = np.exp(-r * T) * (1 - recovery_rate) * (term_firm_val < debt) * call_val\n",
    "    cva_estimates[i] = np.mean(amount_lost)\n",
    "    cva_std[i] = np.std(amount_lost) / np.sqrt(50000)"
   ]
  },
  {
   "cell_type": "code",
   "execution_count": 143,
   "metadata": {},
   "outputs": [],
   "source": [
    "#Calculate default probability\n",
    "d1 = ((np.log(V0)/debt) + (r + sigma_firm ** 2) * T) / (sigma_firm * np.sqrt(T))\n",
    "d2 = d1 - sigma_firm * np.sqrt(T)\n",
    "default_prob = norm.cdf(-d2)"
   ]
  },
  {
   "cell_type": "code",
   "execution_count": 144,
   "metadata": {},
   "outputs": [],
   "source": [
    "#Analytical solution for vanilla European Call\n",
    "d1_a = ((np.log(S0/K) + (r + sigma ** 2/2) * T) / (sigma * np.sqrt(T)))\n",
    "d2_a = d1_a - sigma * np.sqrt(T)\n",
    "analytical_price = S0 * norm.cdf(d1_a) - K * np.exp(-r * T) * norm.cdf(d2_a)"
   ]
  },
  {
   "cell_type": "code",
   "execution_count": 145,
   "metadata": {},
   "outputs": [],
   "source": [
    "# Assuming 0 correlation, calculate CVA, this will be used as an error bound\n",
    "uncorr_cva = (1 - recovery_rate) * default_prob * (analytical_price)"
   ]
  },
  {
   "cell_type": "code",
   "execution_count": 146,
   "metadata": {},
   "outputs": [
    {
     "data": {
      "image/png": "[encoded data removed]",
      "text/plain": [
       "<Figure size 432x288 with 1 Axes>"
      ]
     },
     "metadata": {},
     "output_type": "display_data"
    }
   ],
   "source": [
    "#Plot the CVA estimates for different correlations bounded by the 3 standard deviation and 0 correlation CVA\n",
    "plt.plot(corr_tested,[uncorr_cva] * 21)\n",
    "plt.plot(corr_tested,cva_estimates,'.')\n",
    "plt.plot(corr_tested,cva_estimates + 3 * np.array(cva_std))\n",
    "plt.plot(corr_tested,cva_estimates - 3 * np.array(cva_std))\n",
    "plt.xlabel(\"Correlation\")\n",
    "plt.ylabel(\"CVA\")\n",
    "plt.show()"
   ]
  },
  {
   "cell_type": "raw",
   "metadata": {},
   "source": [
    "CVA in real situations\n",
    "1) CVA is the price one would pay to hedge the portfolio of derivative instruments against counterparty credit risk\n",
    "2) Different implementations of CVA are used by different companies\n",
    "3) Some companies that heavily invest in derivatives sometimes even have a seperate CVA desk"
   ]
  },
  {
   "cell_type": "code",
   "execution_count": 147,
   "metadata": {},
   "outputs": [],
   "source": [
    "#Example - Blackberry stock price on 27th August 2019 was 6.86 USD\n",
    "\n",
    "#Constructing Black Schole-Merton Model and simulating Blackberry stock price movements\n",
    "S0 = 6.86\n",
    "r1 = 0.01\n",
    "sigma1 = 0.2\n",
    "T1 = 1\n",
    "I1 = 400\n",
    "ST1 = S0 * np.exp((r1 - sigma1 ** 2/2) * T1 + sigma1 * np.sqrt(T) * np.random.standard_normal(I1))\n",
    "L1 = 0.5 #(Average loss level (fixed))\n",
    "p1 = 0.01 # probability of default"
   ]
  },
  {
   "cell_type": "code",
   "execution_count": 149,
   "metadata": {},
   "outputs": [
    {
     "data": {
      "text/plain": [
       "4"
      ]
     },
     "execution_count": 149,
     "metadata": {},
     "output_type": "execute_result"
    }
   ],
   "source": [
    "#General default scenarios using Poisson Distribution - this distribution is used in modelling rare events, suppose the counterparty goes bankrupt,etc\n",
    "\n",
    "#Risk neutral value of the future index level is equal to the current value of the asset today if there is no default\n",
    "\n",
    "D = np.random.poisson(p1 * T1,I1)\n",
    "D = np.where(D > 1,1,D)\n",
    "\n",
    "#Risk - Neutral Value\n",
    "np.exp(-r1 * T) / I1 * np.sum(ST1)\n",
    "\n",
    "CVar1 = np.exp(-r1 * T1) / I1 * np.sum(L1 * D * ST1)\n",
    "\n",
    "#Present value of the asset adjusted for credit risk\n",
    "S0_CVar1 = np.exp(-r1 * T1) / I1 * np.sum((1 - L1 * D) * ST1)\n",
    "\n",
    "#Number of possible losses\n",
    "np.count_nonzero(L1 * D * ST1)"
   ]
  },
  {
   "cell_type": "code",
   "execution_count": null,
   "metadata": {},
   "outputs": [],
   "source": []
  },
  {
   "cell_type": "code",
   "execution_count": null,
   "metadata": {},
   "outputs": [],
   "source": []
  }
 ],
 "metadata": {
  "kernelspec": {
   "display_name": "Python 3",
   "language": "python",
   "name": "python3"
  },
  "language_info": {
   "codemirror_mode": {
    "name": "ipython",
    "version": 3
   },
   "file_extension": ".py",
   "mimetype": "text/x-python",
   "name": "python",
   "nbconvert_exporter": "python",
   "pygments_lexer": "ipython3",
   "version": "3.6.5"
  }
 },
 "nbformat": 4,
 "nbformat_minor": 2
}

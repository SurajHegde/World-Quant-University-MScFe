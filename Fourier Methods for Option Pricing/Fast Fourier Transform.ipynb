{
 "cells": [
  {
   "cell_type": "code",
   "execution_count": 21,
   "metadata": {},
   "outputs": [],
   "source": [
    "import numpy as np\n",
    "from scipy.stats import norm\n",
    "import matplotlib.pyplot as plt\n",
    "\n",
    "#Share info\n",
    "S0 = 100\n",
    "sigma = 0.3\n",
    "T = 1\n",
    "r=0.06\n",
    "\n",
    "#Algorithm info\n",
    "N = 2**10\n",
    "delta = 0.25\n",
    "alpha = 1.5\n",
    "phi = norm.cdf"
   ]
  },
  {
   "cell_type": "code",
   "execution_count": 22,
   "metadata": {},
   "outputs": [],
   "source": [
    "def log_char(u):\n",
    "    return np.exp(1j*u*(np.log(S0)+(r-sigma**2/2)*T)-sigma**2*T*u**2/2)\n",
    "\n",
    "def c_func(v):\n",
    "    val1 = np.exp(-r*T)*log_char(v-(alpha+1)*1j)\n",
    "    val2 = alpha**2+alpha-v**2+1j*(2*alpha+1)*v\n",
    "    return val1/val2"
   ]
  },
  {
   "cell_type": "code",
   "execution_count": 23,
   "metadata": {},
   "outputs": [],
   "source": [
    "n = np.array(range(N))\n",
    "delta_k = 2*np.pi/(N*delta)\n",
    "b = delta_k*(N-1)/2\n",
    "\n",
    "log_strike = np.linspace(-b,b,N)\n",
    "\n",
    "x = np.exp(1j*b*n*delta)*c_func(n*delta)*(delta)\n",
    "x[0] = x[0]*0.5\n",
    "x[-1] = x[-1]*0.5"
   ]
  },
  {
   "cell_type": "code",
   "execution_count": 24,
   "metadata": {},
   "outputs": [],
   "source": [
    "#I used the in-built fft function to minimise typing here and\n",
    "#    respond to the question quickly, otherwise, of course,\n",
    "#    the full example in the notes first defines the complete function then uses it.\n",
    "xhat = np.fft.fft(x).real \n",
    "\n",
    "fft_call = np.exp(-alpha*log_strike)*xhat/np.pi\n",
    "\n",
    "#call price\n",
    "d1 = (np.log(S0/np.exp(log_strike))+(r+sigma**2/2)*T)/(sigma*np.sqrt(T))\n",
    "d2 = d1 - sigma*np.sqrt(T)\n",
    "analytic_callprice = S0*phi(d1) - np.exp(log_strike)*np.exp(-r*(T))*phi(d2)\n"
   ]
  },
  {
   "cell_type": "code",
   "execution_count": 25,
   "metadata": {},
   "outputs": [
    {
     "data": {
      "image/png": "[encoded data removed]",
      "text/plain": [
       "<Figure size 432x288 with 1 Axes>"
      ]
     },
     "metadata": {},
     "output_type": "display_data"
    }
   ],
   "source": [
    "plt.plot(np.exp(log_strike), analytic_callprice) #LINE 1\n",
    "plt.plot(np.exp(log_strike), fft_call) #LINE 2\n",
    "plt.axis([0,100,0,100]) #LINE 3\n",
    "plt.xlabel(\"Strike\")\n",
    "plt.ylabel(\"Call Price\")\n",
    "plt.show() "
   ]
  },
  {
   "cell_type": "code",
   "execution_count": 26,
   "metadata": {},
   "outputs": [],
   "source": [
    "#Multiple things to be noted here about the plotting below. I have labelled the\n",
    "#    lines as LINE 1 - 6 for easy reference in this explanation.\n",
    "\n",
    "#NUMBER 1. The form we have been used to of the plot function plots a data set of our own\n",
    "#    on the y-axis against an automatic number line on the x-axis, as used in the two cases \n",
    "#    on page 46 of the notes, for example, in the from plt.plot(y). However, to plot two\n",
    "#    data sets of our own, with one on the x-axis and one on the y-axis, we use the form:\n",
    "#    plt.plot(x,y). The set to go on the x-axis goes first, then the set to go on the\n",
    "#    y-axis goes second.\n",
    "\n",
    "\n",
    "#NUMBER 2. The variable log_strike holds the values of ln(strike).\n",
    "#    Therefore, to plot against the strike itself, we have to do the inverse of\n",
    "#    ln(strike), which is e^strike. This is written here in the code as np.exp(log_strike).\n",
    "\n",
    "\n",
    "#LINE 1 uses the concepts of NUMBER 1 and NUMBER 2 above, to plot e^strike against\n",
    "#    the analytical call prices. LINE 2 does the same thing, plotting e^strike against\n",
    "#    the FFT call price estimates.\n",
    "\n",
    "\n",
    "#NUMBER 3. Temporarily disable LINE 3 below, by putting # in front of it, then run this code.\n",
    "#    If you followed NUMBER 1 and NUMBER 2 above, you would get the correct graph.\n",
    "#    But as you can see, it would not look at all like the graph in the notes. You would notice\n",
    "#    on the x-axis that the values go beyond 250000. Referring back to page 46 of the M4 notes,\n",
    "#    the automatic number line on the x-axis takes values up to 50 because there are 50 values\n",
    "#    in the array COS_callprice. Here in this FFT code, there are 1024 values in log_strike, which\n",
    "#    means there are also 1024 values of e^strike, the largest being about 282000.\n",
    "#    So the automatic x-axis goes up to that value. To limit the x-axis to 100, as has been\n",
    "#    done for the FFT example in the notes, we use LINE 3. You can enable it again now by\n",
    "#    removing the # and running the code again. The axis function\n",
    "#    takes, in order, (x-axisMinimum, x-axisMaximum, y-axisMinimum, y-axisMaximum).\n",
    "#    So LINE 3 has a minimum of 0 and maximum of 100 on the x-axis, so only part of the\n",
    "#    original graph is shown, and it is the part we need. Now it looks more like the \n",
    "#    example in the notes! \n",
    "    "
   ]
  },
  {
   "cell_type": "code",
   "execution_count": 27,
   "metadata": {},
   "outputs": [
    {
     "data": {
      "image/png": "[encoded data removed]",
      "text/plain": [
       "<Figure size 432x288 with 1 Axes>"
      ]
     },
     "metadata": {},
     "output_type": "display_data"
    }
   ],
   "source": [
    "plt.plot(log_strike, np.absolute(fft_call-analytic_callprice)) #LINE 5\n",
    "plt.xlabel(\"Log-Strike\")\n",
    "plt.ylabel(\"Absolute Error\")\n",
    "plt.show()"
   ]
  },
  {
   "cell_type": "code",
   "execution_count": null,
   "metadata": {},
   "outputs": [],
   "source": []
  }
 ],
 "metadata": {
  "kernelspec": {
   "display_name": "Python 3",
   "language": "python",
   "name": "python3"
  },
  "language_info": {
   "codemirror_mode": {
    "name": "ipython",
    "version": 3
   },
   "file_extension": ".py",
   "mimetype": "text/x-python",
   "name": "python",
   "nbconvert_exporter": "python",
   "pygments_lexer": "ipython3",
   "version": "3.6.5"
  }
 },
 "nbformat": 4,
 "nbformat_minor": 2
}

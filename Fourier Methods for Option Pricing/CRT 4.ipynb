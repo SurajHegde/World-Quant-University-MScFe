{
 "cells": [
  {
   "cell_type": "raw",
   "metadata": {},
   "source": [
    "Fourier Methods for Option Pricing\n",
    "Pricing a European Put Option using three different techniques"
   ]
  },
  {
   "cell_type": "code",
   "execution_count": 65,
   "metadata": {},
   "outputs": [],
   "source": [
    "import numpy as np\n",
    "from scipy.stats import norm\n",
    "import matplotlib.pyplot as plt"
   ]
  },
  {
   "cell_type": "code",
   "execution_count": 66,
   "metadata": {},
   "outputs": [],
   "source": [
    "'''1. Initialize the relevant Parameters'''\n",
    "\n",
    "# Share specific information;Risk free rate, Initial Stock price and Volatility\n",
    "r = 0.1\n",
    "S0 = 120\n",
    "sigma = 0.25\n",
    "# Put Option specific Information; Strike Price and Time Period (Years)\n",
    "K = 100\n",
    "T = 2\n",
    "t = 0 # Time when option is being priced\n",
    "phi = norm.cdf\n",
    "kLog = np.log(K)"
   ]
  },
  {
   "cell_type": "code",
   "execution_count": 67,
   "metadata": {},
   "outputs": [],
   "source": [
    "'''2.Calculate the analytical price for the put option using the closed-form solution. '''\n",
    "\n",
    "def find_analytical_price(r,S0,K,sigma,T):\n",
    "    d1 = (np.log(S0/K) + (r + sigma**2/2) * (T-t)) / (sigma * np.sqrt(T-t))\n",
    "    d2 = d1 - sigma * np.sqrt(T)\n",
    "    return - S0 * phi(-d1) + K * np.exp(-r * (T-t)) * phi(-d2)"
   ]
  },
  {
   "cell_type": "code",
   "execution_count": 68,
   "metadata": {},
   "outputs": [],
   "source": [
    "analytical_put_price = find_analytical_price(r,S0,K,sigma,T)"
   ]
  },
  {
   "cell_type": "code",
   "execution_count": 69,
   "metadata": {},
   "outputs": [],
   "source": [
    "'''3. Calculate the estimate for the put price using the characteristic function and technique described in note set 1. \n",
    "Use a maximum integral bound of 40 and N=200 rectangles to approximate your integral.'''\n",
    "\n",
    "# Characteristic functions\n",
    "def c_M1(t):\n",
    "    return np.exp(1j * t * (np.log(S0) + (r - sigma**2/2) * T) - (sigma ** 2 * T * t**2/2))\n",
    "\n",
    "def c_M2(t):\n",
    "    return np.exp(1j * t * sigma**2 * T) * c_M1(t)"
   ]
  },
  {
   "cell_type": "code",
   "execution_count": 70,
   "metadata": {},
   "outputs": [],
   "source": [
    "# Choosing integral upper bound and N, the number of partitions to sum over\n",
    "t_max = 40\n",
    "N = 200\n",
    "delta = t_max / N\n",
    "from_1_to_N = np.linspace(1,N,N)\n",
    "t_n = (from_1_to_N - 1/2) * delta\n",
    "\n",
    "Integral_1 = sum((((np.exp(-1j * t_n * kLog) * c_M2(t_n)).imag)/t_n) * delta)\n",
    "Integral_2 = sum((((np.exp(-1j * t_n * kLog) * c_M1(t_n)).imag)/t_n) * delta)\n",
    "\n",
    "fourier_put_val =  -S0 * (1/2 - Integral_1/np.pi) + np.exp(-r * T) * K * (1/2 - Integral_2/np.pi)"
   ]
  },
  {
   "cell_type": "code",
   "execution_count": 71,
   "metadata": {},
   "outputs": [
    {
     "name": "stdout",
     "output_type": "stream",
     "text": [
      "Analytical Put Price : 2.4693867508857075\n",
      "Fourier Transform Put Price : 2.46938675088572\n"
     ]
    }
   ],
   "source": [
    "print(\"Analytical Put Price : {}\".format(analytical_put_price))\n",
    "print(\"Fourier Transform Put Price : {}\".format(fourier_put_val))"
   ]
  },
  {
   "cell_type": "code",
   "execution_count": 80,
   "metadata": {},
   "outputs": [],
   "source": [
    "'''4. Using this information, use the COS method to price a European put option using the given parameters. \n",
    "Calculate put prices for increasing upper limits on the COS method sum. Plot your results against the analytical put price.'''\n",
    "\n",
    "# V_n = 2 * K * (upsilion_n(0,b2) - psi_n(0,b2)) / (b2-b1)\n",
    "\n",
    "# Defining intermediate functions upsilon and psi\n",
    "\n",
    "def upsilon_n(b2,b1,d,c,n):\n",
    "    npi_d = np.pi * n * (d-b1)/(b2-b1)\n",
    "    npi_c = np.pi * n * (c-b1)/(b2-b1)\n",
    "    val_one = (np.cos(npi_d) * np.exp(d) - np.cos(npi_c) * np.exp(c))\n",
    "    val_two = (n * np.pi * (np.sin(npi_d) * np.exp(d) - np.sin(npi_c) * np.exp(c)) / (b2-b1))\n",
    "    return (val_one + val_two)/(1 + (n * np.pi / (b2-b1)) ** 2)\n",
    "\n",
    "def psi_n(b2,b1,d,c,n):\n",
    "    if n == 0:\n",
    "        return d - c\n",
    "    else:\n",
    "        return (b2-b1) * (np.sin(n * np.pi * (d-b1)/(b2-b1)) - np.sin(n * np.pi * (c - b1) / (b2 - b1))) / (n * np.pi)"
   ]
  },
  {
   "cell_type": "code",
   "execution_count": 81,
   "metadata": {},
   "outputs": [],
   "source": [
    "def v_n(K,b2,b1,n):\n",
    "    return 2 * K * (psi_n(b2,b1,0,b1,n) - upsilon_n(b2,b1,0,b1,n)) / (b2 - b1)\n",
    "\n",
    "def logchar_func(u,S0,r,sigma,K,T):\n",
    "    return np.exp(1j * u * (np.log(S0/K) + (r - sigma**2 / 2) * T) - (sigma ** 2) * T * (u ** 2) / 2)\n",
    "\n",
    "def put_price(N,S0,sigma,r,K,T,b2,b1):\n",
    "    price = v_n(K,b2,b1,0) * logchar_func(0,S0,r,sigma,K,T)/2\n",
    "    for n in range(1,N):\n",
    "        price = price + logchar_func(n * np.pi / (b2-b1),S0,r,sigma,K,T) * np.exp(-1j * n * np.pi * b1/(b2-b1)) * v_n(K,b2,b1,n)\n",
    "    return price.real * np.exp(-r * T)"
   ]
  },
  {
   "cell_type": "code",
   "execution_count": 88,
   "metadata": {},
   "outputs": [],
   "source": [
    "c1 = r\n",
    "c2 = T * sigma ** 2\n",
    "c4 = 0\n",
    "L = 10\n",
    "\n",
    "b1 = c1 - L * np.sqrt(c2 - np.sqrt(c4))\n",
    "b2 = c1 + L * np.sqrt(c2 - np.sqrt(c4))\n",
    "\n",
    "#Calculating COS for various N\n",
    "COS_put_price = [None]*50\n",
    "for i in range(1,51):\n",
    "    COS_put_price[i-1] = put_price(i,S0,sigma,r,K,T,b2,b1)"
   ]
  },
  {
   "cell_type": "code",
   "execution_count": 89,
   "metadata": {},
   "outputs": [
    {
     "data": {
      "image/png": "[encoded data removed]",
      "text/plain": [
       "<Figure size 432x288 with 1 Axes>"
      ]
     },
     "metadata": {},
     "output_type": "display_data"
    }
   ],
   "source": [
    "#Plotting the results\n",
    "plt.plot(COS_put_price)\n",
    "plt.plot([analytical_put_price]*50)\n",
    "plt.xlabel(\"N\")\n",
    "plt.ylabel(\"Put price\")\n",
    "plt.show()"
   ]
  },
  {
   "cell_type": "code",
   "execution_count": 90,
   "metadata": {},
   "outputs": [
    {
     "name": "stdout",
     "output_type": "stream",
     "text": [
      "Fourier COS Put Price : 2.4693867508856937\n"
     ]
    }
   ],
   "source": [
    "print(\"Fourier COS Put Price : {}\".format(COS_put_price[-1]))"
   ]
  },
  {
   "cell_type": "code",
   "execution_count": 91,
   "metadata": {},
   "outputs": [
    {
     "data": {
      "image/png": "[encoded data removed]",
      "text/plain": [
       "<Figure size 432x288 with 1 Axes>"
      ]
     },
     "metadata": {},
     "output_type": "display_data"
    }
   ],
   "source": [
    "#plotting log of absolute error\n",
    "plt.plot(np.log(np.absolute(COS_put_price - analytical_put_price)))\n",
    "plt.xlabel(\"N\")\n",
    "plt.ylabel(\"Log absolute error\")\n",
    "plt.show()\n"
   ]
  },
  {
   "cell_type": "code",
   "execution_count": null,
   "metadata": {},
   "outputs": [],
   "source": [
    "'''5. Use the fast Fourier transform (FFT) to price a European put option with the given parameters. \n",
    "You will have to price your put option for a range of strikes. Note that the only difference when applying the FFT to a put, \n",
    "when compared to a call, is that your value for α must be less than -1. Use a sequence length for your xn of N=210, and use \n",
    "δu=0.25. Plot the estimated put prices against the analytical put prices (across the range of strikes).\n",
    "'''\n"
   ]
  },
  {
   "cell_type": "code",
   "execution_count": 231,
   "metadata": {},
   "outputs": [],
   "source": [
    "# Fast Fourier Method information\n",
    "alpha = -3\n",
    "delta = 0.25\n",
    "N = 2**10"
   ]
  },
  {
   "cell_type": "code",
   "execution_count": 232,
   "metadata": {},
   "outputs": [],
   "source": [
    "# Characteristic functions\n",
    "def log_char(u):\n",
    "    return np.exp(1j * u * (np.log(S0) + (r - sigma**2/2) * T) - sigma**2 * T * u**2/2)\n",
    "\n",
    "def c_func(v):\n",
    "    val1 = np.exp(-r * T) * log_char(v - (alpha + 1) * 1j)\n",
    "    val2 = alpha**2 + alpha - v**2 + 1j * (2 * alpha + 1) * v\n",
    "    return val1/val2\n",
    "    "
   ]
  },
  {
   "cell_type": "code",
   "execution_count": 233,
   "metadata": {},
   "outputs": [],
   "source": [
    "n = np.array(range(N))\n",
    "delta_k = 2 * np.pi / (N * delta)\n",
    "b = delta_k * (N - 1) / 2\n",
    "log_strike = np.linspace(-b,b,N)\n",
    "x = np.exp(1j * b * n * delta) * c_func(n * delta) * delta\n",
    "x[0] = x[0] * 0.5\n",
    "x[-1] = x[-1] * 0.5\n",
    "x_hat = np.fft.fft(x).real"
   ]
  },
  {
   "cell_type": "code",
   "execution_count": 234,
   "metadata": {},
   "outputs": [],
   "source": [
    "# Find fft price and fft analytical price using e^K as strike \n",
    "fft_put_price = np.exp(-alpha * log_strike) * x_hat / np.pi\n",
    "fft_analytical_price = find_analytical_price(r,S0,np.exp(log_strike),sigma,T)"
   ]
  },
  {
   "cell_type": "code",
   "execution_count": 235,
   "metadata": {},
   "outputs": [
    {
     "data": {
      "image/png": "[encoded data removed]",
      "text/plain": [
       "<Figure size 432x288 with 1 Axes>"
      ]
     },
     "metadata": {},
     "output_type": "display_data"
    }
   ],
   "source": [
    "# Plot the graph\n",
    "plt.plot(np.exp(log_strike),fft_analytical_price,label = \"Analytical Price\")\n",
    "plt.plot(np.exp(log_strike),fft_put_price,label = \"FFT Price\")\n",
    "plt.xlabel(\"Strike\")\n",
    "plt.ylabel(\"Put Price\")\n",
    "plt.legend(loc = \"upper left\")\n",
    "plt.show()"
   ]
  },
  {
   "cell_type": "code",
   "execution_count": 239,
   "metadata": {},
   "outputs": [
    {
     "data": {
      "image/png": "[encoded data removed]",
      "text/plain": [
       "<Figure size 432x288 with 1 Axes>"
      ]
     },
     "metadata": {},
     "output_type": "display_data"
    }
   ],
   "source": [
    "plt.plot((log_strike),(np.absolute(fft_put_price - fft_analytical_price)))\n",
    "plt.xlabel(\"Log Strike\")\n",
    "plt.ylabel(\"Absolute Error\")\n",
    "plt.show()"
   ]
  }
 ],
 "metadata": {
  "kernelspec": {
   "display_name": "Python 3",
   "language": "python",
   "name": "python3"
  },
  "language_info": {
   "codemirror_mode": {
    "name": "ipython",
    "version": 3
   },
   "file_extension": ".py",
   "mimetype": "text/x-python",
   "name": "python",
   "nbconvert_exporter": "python",
   "pygments_lexer": "ipython3",
   "version": "3.6.5"
  }
 },
 "nbformat": 4,
 "nbformat_minor": 2
}

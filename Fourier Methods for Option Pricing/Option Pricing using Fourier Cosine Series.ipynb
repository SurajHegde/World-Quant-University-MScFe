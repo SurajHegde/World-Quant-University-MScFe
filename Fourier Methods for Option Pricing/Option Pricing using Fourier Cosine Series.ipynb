{
 "cells": [
  {
   "cell_type": "code",
   "execution_count": 1,
   "metadata": {},
   "outputs": [],
   "source": [
    "#Fourier cosine expansion"
   ]
  },
  {
   "cell_type": "code",
   "execution_count": 105,
   "metadata": {},
   "outputs": [],
   "source": [
    "import numpy as np\n",
    "from scipy.stats import norm\n",
    "import matplotlib.pyplot as plt\n"
   ]
  },
  {
   "cell_type": "code",
   "execution_count": 106,
   "metadata": {},
   "outputs": [],
   "source": [
    "# Share specific info\n",
    "r = 0.06\n",
    "S0 = 100\n",
    "sigma = 0.3\n",
    "\n",
    "# Call option info\n",
    "K = 110\n",
    "T = 1\n",
    "kLog = np.log(K)\n",
    "phi = norm.cdf\n",
    "t = 0"
   ]
  },
  {
   "cell_type": "code",
   "execution_count": 117,
   "metadata": {},
   "outputs": [],
   "source": [
    "def analytical_price(S0,K,r,sigma,T):\n",
    "    d1 = (np.log(S0/K) + (r + sigma**2/2) * (T-t)) / sigma * np.sqrt(T-t)\n",
    "    d2 = d1 - sigma * np.sqrt(T-t)\n",
    "    return S0 * phi(d1) - K * np.exp(-r * T) * phi(d2)\n",
    "analytical_price = analytical_price(S0,K,r,sigma,T)"
   ]
  },
  {
   "cell_type": "code",
   "execution_count": 118,
   "metadata": {},
   "outputs": [],
   "source": [
    "# Characteristic funciton of a normal random variable\n",
    "def CF(t, mu=0, s=1):\n",
    "    return np.exp(1j*t*mu - (t**2)*(s**2) / 2)"
   ]
  },
  {
   "cell_type": "code",
   "execution_count": 119,
   "metadata": {},
   "outputs": [],
   "source": [
    "# Check notes for formulas\n",
    "def upsilon_n(c, d, n, b1, b2):\n",
    "    npi = n*np.pi/(b2-b1)\n",
    "    npi_c = npi * (c - b1)\n",
    "    npi_d = npi * (d - b1)\n",
    "    \n",
    "    numerator = np.cos(npi_d)*np.exp(d) - np.cos(npi_c)*np.exp(c) + npi * (np.sin(npi_d) * np.exp(d) - np.sin(npi_c) * np.exp(c))\n",
    "    return numerator / (1+ npi**2)\n",
    "\n",
    "def psi_n(c, d, n, b1, b2):\n",
    "    if n==0:\n",
    "        return d-c\n",
    "    else:\n",
    "        return (b2 - b1)/(n*np.pi) * (np.sin(n*np.pi*(d - b1)/(b2 - b1)) - np.sin(n*np.pi*(c - b1)/(b2 - b1)))"
   ]
  },
  {
   "cell_type": "code",
   "execution_count": 124,
   "metadata": {},
   "outputs": [],
   "source": [
    "# Call Valuation\n",
    "# Vn = 2*K*(Upsilon(0,b2) - psi_n(0,b2)) / b2-b1\n",
    "\n",
    "def v_n(n, K, b1, b2):\n",
    "    return 2/(b2 - b1) * K * (upsilon_n(0, b2, n, b1, b2) - psi_n(0, b2, n, b1, b2))\n",
    "\n",
    "def fourier_cos_call_price(r, sigma, S0, K, T, N, b1, b2):\n",
    "    mu = np.log(S0/K) + (r - sigma**2/2)*T\n",
    "    s = sigma*np.sqrt(T)\n",
    "    npi = lambda n: n*np.pi/(b2 - b1)\n",
    "    v = lambda n: v_n(n, K, b1, b2)\n",
    "    first_term = v(0)*CF(0, mu=mu, s=s)/2\n",
    "    second_term = np.sum([(CF(npi(n), mu=mu, s=s) * np.exp(-1j*b1*npi(n))).real * v(n) for n in range(1, N)])\n",
    "    return np.exp(-r*T)*(first_term + second_term).real"
   ]
  },
  {
   "cell_type": "code",
   "execution_count": 127,
   "metadata": {},
   "outputs": [],
   "source": [
    "# b1, b2 for call\n",
    "c1 = r\n",
    "c2 = T * sigma**2\n",
    "c4 = 0\n",
    "L = 10\n",
    "\n",
    "b1 = c1 - L * np.sqrt(c2 + np.sqrt(c4))\n",
    "b2 = c1 + L * np.sqrt(c2 + np.sqrt(c4))\n"
   ]
  },
  {
   "cell_type": "code",
   "execution_count": 129,
   "metadata": {},
   "outputs": [
    {
     "data": {
      "image/png": "[encoded data removed]",
      "text/plain": [
       "<Figure size 432x288 with 1 Axes>"
      ]
     },
     "metadata": {},
     "output_type": "display_data"
    }
   ],
   "source": [
    "fourier_cos_prices = [fourier_cos_call_price(r, sigma, S0, K, T, n, b1, b2) for n in range (1, 51)]\n",
    "plt.plot(fourier_cos_prices)\n",
    "plt.plot([analytical_price] * 50)\n",
    "plt.xlabel('N')\n",
    "plt.ylabel('Call price')\n",
    "plt.plot()\n",
    "plt.show()"
   ]
  },
  {
   "cell_type": "code",
   "execution_count": 132,
   "metadata": {},
   "outputs": [
    {
     "name": "stdout",
     "output_type": "stream",
     "text": [
      "Call Option Analytical Price : 10.424100458714285\n",
      "Fourier COS price : 10.4241004587141\n"
     ]
    }
   ],
   "source": [
    "print(\"Call Option Analytical Price : {}\".format(analytical_price))\n",
    "print(\"Fourier COS price : {}\".format(fourier_cos_prices[-1]))"
   ]
  },
  {
   "cell_type": "code",
   "execution_count": null,
   "metadata": {},
   "outputs": [],
   "source": []
  }
 ],
 "metadata": {
  "kernelspec": {
   "display_name": "Python 3",
   "language": "python",
   "name": "python3"
  },
  "language_info": {
   "codemirror_mode": {
    "name": "ipython",
    "version": 3
   },
   "file_extension": ".py",
   "mimetype": "text/x-python",
   "name": "python",
   "nbconvert_exporter": "python",
   "pygments_lexer": "ipython3",
   "version": "3.6.5"
  }
 },
 "nbformat": 4,
 "nbformat_minor": 2
}

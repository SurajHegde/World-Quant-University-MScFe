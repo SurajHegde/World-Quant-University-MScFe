{
 "cells": [
  {
   "cell_type": "raw",
   "metadata": {},
   "source": [
    "Important theorems required :\n",
    "1) Gil Pelaez Theorem - Probability using Characteristic Function\n",
    "2) Radon Nikodyn Theorem\n"
   ]
  },
  {
   "cell_type": "raw",
   "metadata": {},
   "source": [
    "Option Pricing using two different methods - Fourier Cosine and COS method\n"
   ]
  },
  {
   "cell_type": "code",
   "execution_count": 1,
   "metadata": {},
   "outputs": [],
   "source": [
    "import numpy as np\n",
    "from scipy.stats import norm\n",
    "import matplotlib.pyplot as plt"
   ]
  },
  {
   "cell_type": "code",
   "execution_count": 9,
   "metadata": {},
   "outputs": [],
   "source": [
    "#Assuming everything as necessary for Black Scholes like before\n",
    "\n",
    "#COS Method\n",
    "\n",
    "#Share Price information - Risk free interest rate, initial share price and volatility\n",
    "r = 0.06\n",
    "S0 = 100\n",
    "sigma = 0.3\n",
    "\n",
    "#Strike Price and Time Period for Call Option\n",
    "K = 110\n",
    "T = 1\n",
    "kLog = np.log(K)\n",
    "phi = norm.cdf"
   ]
  },
  {
   "cell_type": "code",
   "execution_count": 43,
   "metadata": {},
   "outputs": [],
   "source": [
    "# Analytical solution for vanilla European Call\n",
    "def analytical_price(S0,K,r,sigma,T):\n",
    "    d1 = ((np.log(S0/K) + ((r + sigma**2/2) * T)) / sigma * np.sqrt(T))\n",
    "    d2 = d1 - sigma * np.sqrt(T)\n",
    "    return S0 * phi(d1) - K * np.exp(-r * T) * phi(d2)"
   ]
  },
  {
   "cell_type": "code",
   "execution_count": 44,
   "metadata": {},
   "outputs": [],
   "source": [
    "#Check Notes for formula for price along with characteristic functions\n",
    "#1j is used to create imaginary part i = sqrt(-1)\n",
    "\n",
    "def characteristic_1(t):\n",
    "    return np.exp(1j * t * (np.log(S0) + (r - sigma**2/2) * T) - (sigma ** 2 * T * t**2/2))\n",
    "def characteristic_2(t):\n",
    "    return np.exp(1j * t * sigma**2 * T) * characteristic_1(t)"
   ]
  },
  {
   "cell_type": "code",
   "execution_count": 45,
   "metadata": {},
   "outputs": [],
   "source": [
    "# Use integral bounds and N for estimating the integral\n",
    "# To get better approximations try different values of t and N\n",
    "t_max = 20\n",
    "N = 100\n",
    "delta = t_max / N\n",
    "from_1_to_N = np.linspace(1,N,N)\n",
    "t_n = (from_1_to_N - 1/2) * delta"
   ]
  },
  {
   "cell_type": "code",
   "execution_count": 46,
   "metadata": {},
   "outputs": [],
   "source": [
    "# Approximate integral estimates (In Notes)\n",
    "Integral_1 = sum((((np.exp(-1j * t_n * kLog) * characteristic_2(t_n)).imag)/t_n) * delta)\n",
    "Integral_2 = sum((((np.exp(-1j * t_n * kLog) * characteristic_1(t_n)).imag)/t_n) * delta)\n",
    "\n",
    "fourier_call_val = S0 * (1/2 + Integral_1/np.pi) - np.exp(-r*T) * K * (1/2 + Integral_2/np.pi)"
   ]
  },
  {
   "cell_type": "code",
   "execution_count": 48,
   "metadata": {},
   "outputs": [
    {
     "name": "stdout",
     "output_type": "stream",
     "text": [
      "Call Option Value using Fourier COS Method : 10.424100443080057\n",
      "Analytical Call Option Value : 10.424100458714285\n"
     ]
    }
   ],
   "source": [
    "print(\"Call Option Value using Fourier COS Method : {}\".format(fourier_call_val))\n",
    "print(\"Analytical Call Option Value : {}\".format(analytical_price(S0,K,r,sigma,T)))"
   ]
  },
  {
   "cell_type": "code",
   "execution_count": null,
   "metadata": {},
   "outputs": [],
   "source": []
  },
  {
   "cell_type": "code",
   "execution_count": null,
   "metadata": {},
   "outputs": [],
   "source": []
  }
 ],
 "metadata": {
  "kernelspec": {
   "display_name": "Python 3",
   "language": "python",
   "name": "python3"
  },
  "language_info": {
   "codemirror_mode": {
    "name": "ipython",
    "version": 3
   },
   "file_extension": ".py",
   "mimetype": "text/x-python",
   "name": "python",
   "nbconvert_exporter": "python",
   "pygments_lexer": "ipython3",
   "version": "3.6.5"
  }
 },
 "nbformat": 4,
 "nbformat_minor": 2
}

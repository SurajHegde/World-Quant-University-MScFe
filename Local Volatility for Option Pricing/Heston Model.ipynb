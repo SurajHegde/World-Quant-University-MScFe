{
 "cells": [
  {
   "cell_type": "markdown",
   "metadata": {},
   "source": [
    "Implementing Heston model\n",
    "1) dSt = mu * S * dt + sqrt(vt) * S * dWt where St is the asset value and Wt is a Standard Brownian Motion\n",
    "vt is the volatility term that follows a square root process\n",
    "2) dvt = kappa (theta - vt) * dt + sigma * sqrt(vt) * dWt^2\n",
    "Wt^2 is the standard Brownian motion that has a correlation rho with Wt"
   ]
  },
  {
   "cell_type": "raw",
   "metadata": {},
   "source": [
    "Characteristic function = exp(C(tau;u) + D(tau;u) * vt + iulog(St))\n",
    "C(tau,u) = r * i * tau * u + theta * kappa * (tau * x_ - 1/a * log(1 - ge^d * tau)/(1-g))\n",
    "D(tau,u) = (1-e^d * tau) / (1 - g*e ^ d* tau) * x_\n",
    "tau = T - t\n",
    "g = x_ / x+\n",
    "x+/- = b +/- d / 2a\n",
    "d = sqrt(b^2 - 4ac)\n",
    "c = (-u^2 + ui )/ 2\n",
    "b = kappa - rho * sigma * i * u\n",
    "a = sigma^2 / 2"
   ]
  },
  {
   "cell_type": "code",
   "execution_count": 2,
   "metadata": {},
   "outputs": [],
   "source": [
    "import numpy as np\n",
    "from scipy.stats import norm\n",
    "import matplotlib.pyplot as plt"
   ]
  },
  {
   "cell_type": "code",
   "execution_count": 3,
   "metadata": {},
   "outputs": [],
   "source": [
    "# Initializing required variables\n",
    "\n",
    "S0 = 100\n",
    "v0 = 0.06\n",
    "kappa = 9\n",
    "theta = 0.06\n",
    "r = 0.03\n",
    "sigma = 0.5\n",
    "rho = -0.4\n",
    "\n",
    "# Strike and Time Period of Option\n",
    "K = 105\n",
    "T =  0.5\n",
    "kLog = np.log(K)\n",
    "\n",
    "#To approximate integrals\n",
    "t_max = 30\n",
    "N = 100\n",
    "phi = norm.cdf"
   ]
  },
  {
   "cell_type": "code",
   "execution_count": 40,
   "metadata": {},
   "outputs": [],
   "source": [
    "# Wrtiing characteristic function code\n",
    "a = sigma**2/2\n",
    "\n",
    "def b(u):\n",
    "    return kappa - rho * sigma * 1j * u\n",
    "\n",
    "def c(u):\n",
    "    return -(u ** 2 + u * 1j) / 2\n",
    "\n",
    "def d(u):\n",
    "    return np.sqrt(b(u) ** 2 - 4 * a *c(u))\n",
    "\n",
    "def xminus(u):\n",
    "    return (b(u) - d(u)) / (2 * a)\n",
    "\n",
    "def xplus(u):\n",
    "    return (b(u) + d(u)) / (2 * a)\n",
    "\n",
    "def g(u):\n",
    "    return xminus(u) / xplus(u)\n",
    "\n",
    "def C(u):\n",
    "    val = T * xminus(u) - np.log((1 - g(u) * np.exp(-T * d(u))) / (1 - g(u))) / a\n",
    "    return r * T * 1j * u + theta * kappa * val\n",
    "\n",
    "def D(u):\n",
    "    val1 = 1 - np.exp(-T * d(u))\n",
    "    val2 = 1 - g(u) * np.exp(-T * d(u))\n",
    "    return (val1/val2) * xminus(u)\n",
    "\n",
    "def log_char(u):\n",
    "    return np.exp(C(u) + D(u) * v0 + 1j * u * np.log(S0))\n",
    "\n",
    "def adj_char(u):\n",
    "    return log_char(u - 1j) / log_char(-1j)\n"
   ]
  },
  {
   "cell_type": "code",
   "execution_count": 41,
   "metadata": {},
   "outputs": [],
   "source": [
    "delta_t = t_max / N\n",
    "from_1_to_N = np.linspace(1,N,N)\n",
    "t_n = (from_1_to_N - 1/2) * delta_t"
   ]
  },
  {
   "cell_type": "code",
   "execution_count": 42,
   "metadata": {},
   "outputs": [],
   "source": [
    "# Estimating the integrals\n",
    "first_integral = sum((((np.exp(-1j * t_n * kLog) * adj_char(t_n)).imag) / t_n) * delta_t)\n",
    "second_integral = sum((((np.exp(-1j * t_n * kLog) * log_char(t_n)).imag) / t_n) * delta_t)"
   ]
  },
  {
   "cell_type": "code",
   "execution_count": 43,
   "metadata": {},
   "outputs": [],
   "source": [
    "# Estimate fourier call price\n",
    "fourier_call_value = S0 * (1/2 + first_integral/np.pi) - K * np.exp(-r * T) * (1/2 + second_integral/np.pi)"
   ]
  },
  {
   "cell_type": "code",
   "execution_count": 44,
   "metadata": {},
   "outputs": [],
   "source": [
    "# Analytical solution\n",
    "def analytical_price(S0,K,r,sigma,T):\n",
    "    d1 = (np.log(S0 / K) + (r + sigma ** 2/2) * T) / (sigma * np.sqrt(T))\n",
    "    d2 = d1 - sigma * np.sqrt(T)\n",
    "    return S0 * phi(d1) - K * np.exp(-r * T) * phi(d2)"
   ]
  },
  {
   "cell_type": "code",
   "execution_count": 45,
   "metadata": {},
   "outputs": [
    {
     "data": {
      "image/png": "[encoded data removed]",
      "text/plain": [
       "<Figure size 432x288 with 1 Axes>"
      ]
     },
     "metadata": {},
     "output_type": "display_data"
    }
   ],
   "source": [
    "plt.plot(((((np.exp(-1j * t_n * kLog) * adj_char(t_n)).imag) / t_n) * delta_t),label = \"First Integrand\")\n",
    "plt.plot(((((np.exp(-1j * t_n * kLog) * log_char(t_n)).imag) / t_n) * delta_t),label = \"Second Integrand\")\n",
    "plt.legend()\n",
    "plt.xlabel(\"t\")\n",
    "plt.ylabel(\"Integrand Value\")\n",
    "plt.show()"
   ]
  },
  {
   "cell_type": "code",
   "execution_count": null,
   "metadata": {},
   "outputs": [],
   "source": []
  },
  {
   "cell_type": "code",
   "execution_count": null,
   "metadata": {},
   "outputs": [],
   "source": []
  }
 ],
 "metadata": {
  "kernelspec": {
   "display_name": "Python 3",
   "language": "python",
   "name": "python3"
  },
  "language_info": {
   "codemirror_mode": {
    "name": "ipython",
    "version": 3
   },
   "file_extension": ".py",
   "mimetype": "text/x-python",
   "name": "python",
   "nbconvert_exporter": "python",
   "pygments_lexer": "ipython3",
   "version": "3.6.5"
  }
 },
 "nbformat": 4,
 "nbformat_minor": 2
}

{
 "cells": [
  {
   "cell_type": "code",
   "execution_count": 12,
   "metadata": {},
   "outputs": [],
   "source": [
    "import numpy as np\n",
    "import scipy.stats as stats\n",
    "from scipy.stats import uniform"
   ]
  },
  {
   "cell_type": "code",
   "execution_count": 13,
   "metadata": {},
   "outputs": [],
   "source": [
    "''' Estimate the value of the integral as a function of sample size. Use sample sizes of 1000, 2000, ..., 50000\n",
    "'''\n",
    "\n",
    "np.random.seed(0)\n",
    "\n",
    "#Integral cosx = 2 * E(cosx)\n",
    "\n",
    "mcos_estimates = [None] * 50\n",
    "mcos_std = [None] * 50\n",
    "\n",
    "for samples in range(1,51):\n",
    "    unif_array = uniform.rvs(size = samples*1000) * 2\n",
    "    cos_val = np.cos(unif_array) * 2\n",
    "    mcos_estimates[samples-1] = np.mean(cos_val)\n",
    "    mcos_std[samples-1] = np.std(cos_val) / np.sqrt(samples*1000)\n",
    "    \n",
    "\n",
    "\n"
   ]
  },
  {
   "cell_type": "code",
   "execution_count": 22,
   "metadata": {},
   "outputs": [
    {
     "data": {
      "image/png": "[encoded data removed]",
      "text/plain": [
       "<Figure size 432x288 with 1 Axes>"
      ]
     },
     "metadata": {},
     "output_type": "display_data"
    },
    {
     "name": "stdout",
     "output_type": "stream",
     "text": [
      "Analytical Value of Integral : 0.9092974268256817\n",
      "Estimated Value of Integral : 0.9045239607791388\n"
     ]
    }
   ],
   "source": [
    "'''Plot the estimates against the analytical value of the integral.\n",
    "'''\n",
    "\n",
    "import matplotlib.pyplot as plt\n",
    "analytical_value = np.sin(2)\n",
    "plt.plot([analytical_value] * 50)\n",
    "plt.plot(mcos_estimates,'.')\n",
    "plt.plot(analytical_value + np.array(mcos_std) * 3)\n",
    "plt.plot(analytical_value - np.array(mcos_std) * 3)\n",
    "plt.xlabel(\"Sample Size\")\n",
    "plt.ylabel(\"Monte Carlo Estimates\")\n",
    "plt.show()\n",
    "\n",
    "print(\"Analytical Value of Integral : {}\".format(np.sin(2)))\n",
    "print(\"Estimated Value of Integral : {}\".format(mcos_estimates[49]))"
   ]
  },
  {
   "cell_type": "code",
   "execution_count": 15,
   "metadata": {},
   "outputs": [],
   "source": [
    "#Part 2 Price European Put Option\n",
    "\n",
    "#Initialize Variables \n",
    "'''\n",
    "Share volatility is 30%\n",
    "The risk-free rate is 10%\n",
    "Average share return is 15%\n",
    "The current share price is $100\n",
    "The strike on the European put option is $110\n",
    "The term of the contract is 6 months'''\n",
    "Sigma = 0.3\n",
    "r = 0.1\n",
    "S0 = 100\n",
    "K = 110\n",
    "T = 0.5"
   ]
  },
  {
   "cell_type": "code",
   "execution_count": 16,
   "metadata": {},
   "outputs": [],
   "source": [
    "'''1.Write a function which takes a risk-free rate, the initial share price, the share volatility, and term as inputs, and \n",
    "determines the terminal value of a share price, assuming geometric Brownian Motion. \n",
    "'''\n",
    "\n",
    "def find_terminal_price(r,S0,Sigma,T,Z):\n",
    "    return S0 * np.exp((r - Sigma**2/2) * T + Sigma * np.sqrt(T) * Z)\n"
   ]
  },
  {
   "cell_type": "code",
   "execution_count": 17,
   "metadata": {},
   "outputs": [],
   "source": [
    "'''2. Write a function which takes terminal share prices, a strike price, a risk-free rate and term as inputs, and \n",
    "gives out the discounted value of a European put option\n",
    "'''\n",
    "\n",
    "def calculate_discounted_value(terminal,K,r,T):\n",
    "    payoff = np.maximum(K - terminal,0)\n",
    "    price_put = np.exp(-r * T) * payoff\n",
    "    return price_put"
   ]
  },
  {
   "cell_type": "code",
   "execution_count": 20,
   "metadata": {},
   "outputs": [],
   "source": [
    "'''3. Write a for loop which cycles through sample size (1000, 2000, ..., 50000), and calculates the Monte Carlo estimate of a \n",
    "European put option, and well as the standard deviation of the Monte Carlo estimator.'''\n",
    "\n",
    "estimated_price = [None] * 50\n",
    "std_price = [None] * 50\n",
    "for samples in range(1,51):\n",
    "    Z = stats.norm.rvs(size = samples * 1000)\n",
    "    terminal = find_terminal_price(r,S0,Sigma,T,Z)\n",
    "    price = calculate_discounted_value(terminal,K,r,T)\n",
    "    estimated_price[samples - 1] = np.mean(price)\n",
    "    std_price[samples - 1] = np.std(price) / np.sqrt(samples * 1000)"
   ]
  },
  {
   "cell_type": "code",
   "execution_count": 21,
   "metadata": {},
   "outputs": [
    {
     "data": {
      "image/png": "[encoded data removed]",
      "text/plain": [
       "<Figure size 432x288 with 1 Axes>"
      ]
     },
     "metadata": {},
     "output_type": "display_data"
    },
    {
     "name": "stdout",
     "output_type": "stream",
     "text": [
      "Put Option Analytical Price : 11.15601933481286\n",
      "Estimated Value of Analytical Price : 11.238116908502269\n"
     ]
    }
   ],
   "source": [
    "'''4.Plot the Monte Carlo estimates, the analytical European put option value, and three standard deviation error bounds. Note that the analytical put value \n",
    "is given by:'''\n",
    "t = 0\n",
    "phi = stats.norm.cdf\n",
    "d1 = (np.log(S0/K) + (r + Sigma**2/2) * (T-t)) / (Sigma * np.sqrt(T-t))\n",
    "d2 = d1 - Sigma * np.sqrt(T)\n",
    "put_option_analytical_price = K * np.exp(-r * (T-t)) * phi(-d2) - S0 * phi(-d1)\n",
    "\n",
    "plt.plot([put_option_analytical_price] * 50)\n",
    "plt.plot(estimated_price,'.')\n",
    "plt.plot(put_option_analytical_price + 3 * np.array(std_price))\n",
    "plt.plot(put_option_analytical_price - 3 * np.array(std_price))\n",
    "plt.show()\n",
    "\n",
    "print(\"Put Option Analytical Price : {}\".format(put_option_analytical_price))\n",
    "print(\"Estimated Value of Analytical Price : {}\".format(estimated_price[49]))"
   ]
  },
  {
   "cell_type": "code",
   "execution_count": null,
   "metadata": {},
   "outputs": [],
   "source": []
  }
 ],
 "metadata": {
  "kernelspec": {
   "display_name": "Python 3",
   "language": "python",
   "name": "python3"
  },
  "language_info": {
   "codemirror_mode": {
    "name": "ipython",
    "version": 3
   },
   "file_extension": ".py",
   "mimetype": "text/x-python",
   "name": "python",
   "nbconvert_exporter": "python",
   "pygments_lexer": "ipython3",
   "version": "3.6.5"
  }
 },
 "nbformat": 4,
 "nbformat_minor": 2
}
